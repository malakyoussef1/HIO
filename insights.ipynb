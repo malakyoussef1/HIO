{
 "cells": [
  {
   "cell_type": "code",
   "execution_count": 4,
   "metadata": {},
   "outputs": [],
   "source": [
    "from rdflib import Graph, RDF, RDFS, OWL"
   ]
  },
  {
   "cell_type": "code",
   "execution_count": 5,
   "metadata": {},
   "outputs": [
    {
     "data": {
      "text/plain": [
       "<Graph identifier=Nf04082e045174241b7521dcf1bace5a3 (<class 'rdflib.graph.Graph'>)>"
      ]
     },
     "execution_count": 5,
     "metadata": {},
     "output_type": "execute_result"
    }
   ],
   "source": [
    "# Initialize an empty graph\n",
    "g = Graph()\n",
    "\n",
    "# Parse your ontology file\n",
    "# Supported formats: 'xml', 'turtle', 'nt', 'json-ld', etc.\n",
    "g.parse(\"merged_individuals_updated_v2.ttl\", format=\"turtle\")"
   ]
  },
  {
   "cell_type": "code",
   "execution_count": 6,
   "metadata": {},
   "outputs": [
    {
     "name": "stdout",
     "output_type": "stream",
     "text": [
      "Number of RDF triples: 3861\n"
     ]
    }
   ],
   "source": [
    "num_triples = len(g)\n",
    "print(f\"Number of RDF triples: {num_triples}\")"
   ]
  },
  {
   "cell_type": "code",
   "execution_count": 7,
   "metadata": {},
   "outputs": [
    {
     "name": "stdout",
     "output_type": "stream",
     "text": [
      "Number of classes: 131\n"
     ]
    }
   ],
   "source": [
    "owl_classes  = set(g.subjects(RDF.type, OWL.Class))\n",
    "rdfs_classes = set(g.subjects(RDF.type, RDFS.Class))\n",
    "\n",
    "all_classes  = owl_classes.union(rdfs_classes)\n",
    "num_classes  = len(all_classes)\n",
    "\n",
    "print(f\"Number of classes: {num_classes}\")"
   ]
  },
  {
   "cell_type": "code",
   "execution_count": 8,
   "metadata": {},
   "outputs": [
    {
     "name": "stdout",
     "output_type": "stream",
     "text": [
      "Number of properties: 95\n"
     ]
    }
   ],
   "source": [
    "rdf_properties       = set(g.subjects(RDF.type, RDF.Property))\n",
    "owl_object_properties = set(g.subjects(RDF.type, OWL.ObjectProperty))\n",
    "owl_data_properties   = set(g.subjects(RDF.type, OWL.DatatypeProperty))\n",
    "owl_anno_properties   = set(g.subjects(RDF.type, OWL.AnnotationProperty))\n",
    "\n",
    "all_properties = (\n",
    "    rdf_properties\n",
    "    .union(owl_object_properties)\n",
    "    .union(owl_data_properties)\n",
    "    .union(owl_anno_properties)\n",
    ")\n",
    "\n",
    "num_properties = len(all_properties)\n",
    "print(f\"Number of properties: {num_properties}\")"
   ]
  },
  {
   "cell_type": "code",
   "execution_count": 9,
   "metadata": {},
   "outputs": [
    {
     "name": "stdout",
     "output_type": "stream",
     "text": [
      "Number of individuals: 1008\n"
     ]
    }
   ],
   "source": [
    "# First, gather all known classes as above\n",
    "all_classes = owl_classes.union(rdfs_classes)\n",
    "\n",
    "# Then, find subjects whose rdf:type is in that set\n",
    "individuals = set()\n",
    "for s, p, o in g.triples((None, RDF.type, None)):\n",
    "    if o in all_classes:\n",
    "        individuals.add(s)\n",
    "\n",
    "num_individuals = len(individuals)\n",
    "print(f\"Number of individuals: {num_individuals}\")"
   ]
  },
  {
   "cell_type": "code",
   "execution_count": 10,
   "metadata": {},
   "outputs": [
    {
     "data": {
      "text/plain": [
       "1137"
      ]
     },
     "execution_count": 10,
     "metadata": {},
     "output_type": "execute_result"
    }
   ],
   "source": [
    "all_entities = all_classes.union(individuals)\n",
    "\n",
    "len(all_entities)"
   ]
  },
  {
   "cell_type": "code",
   "execution_count": 11,
   "metadata": {},
   "outputs": [
    {
     "name": "stdout",
     "output_type": "stream",
     "text": [
      "Number of annotated entities: 184\n",
      "Annotation coverage: 0.16\n"
     ]
    }
   ],
   "source": [
    "annotated_entities = set()\n",
    "\n",
    "for entity in all_entities:\n",
    "    # Check if it has at least one annotation triple\n",
    "    has_label = (entity, RDFS.label, None) in g\n",
    "    has_comment = (entity, RDFS.comment, None) in g\n",
    "    # rdfs:description is not standard, but let's assume it's a property in your ontology\n",
    "    has_description = (entity, RDFS.seeAlso, None) in g  # or use the actual URI you want\n",
    "\n",
    "    if has_label or has_comment or has_description:\n",
    "        annotated_entities.add(entity)\n",
    "\n",
    "num_annotated = len(annotated_entities)\n",
    "total_entities = len(all_entities)\n",
    "coverage = num_annotated / total_entities if total_entities else 0\n",
    "\n",
    "print(f\"Number of annotated entities: {num_annotated}\")\n",
    "print(f\"Annotation coverage: {coverage:.2f}\")"
   ]
  }
 ],
 "metadata": {
  "kernelspec": {
   "display_name": "Python 3",
   "language": "python",
   "name": "python3"
  },
  "language_info": {
   "codemirror_mode": {
    "name": "ipython",
    "version": 3
   },
   "file_extension": ".py",
   "mimetype": "text/x-python",
   "name": "python",
   "nbconvert_exporter": "python",
   "pygments_lexer": "ipython3",
   "version": "3.12.1"
  }
 },
 "nbformat": 4,
 "nbformat_minor": 2
}
